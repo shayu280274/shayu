{
 "cells": [
  {
   "cell_type": "code",
   "execution_count": 19,
   "id": "191edb65-2a24-41f0-9f72-90efdb6ef50b",
   "metadata": {},
   "outputs": [
    {
     "name": "stdout",
     "output_type": "stream",
     "text": [
      "发现的CSV文件及其列名:\n",
      "\n",
      "文件: 2015年国内主要城市年度数据.csv\n",
      "列名: 地区, 年份, 国内生产总值, 第一产业增加值, 第二产业增加值, 第三产业增加值, 社会商品零售总额, 货物进出口总额, 年末总人口, 在岗职工平均工资, 普通高等学校在校学生数, 医院、卫生院数, 房地产开发投资额\n",
      "\n",
      "文件: 2016年国内主要城市年度数据.csv\n",
      "列名: 地区, 年份, 国内生产总值, 第一产业增加值, 第二产业增加值, 第三产业增加值, 社会商品零售总额, 货物进出口总额, 年末总人口, 在岗职工平均工资, 普通高等学校在校学生数, 医院、卫生院数, 房地产开发投资额\n",
      "\n",
      "文件: 2017年国内主要城市年度数据.csv\n",
      "列名: 地区, 年份, 国内生产总值, 第一产业增加值, 第二产业增加值, 第三产业增加值, 社会商品零售总额, 货物进出口总额, 年末总人口, 在岗职工平均工资, 普通高等学校在校学生数, 医院、卫生院数, 房地产开发投资额\n"
     ]
    }
   ],
   "source": [
    "import pandas as pd\n",
    "import os\n",
    "import numpy as np\n",
    "\n",
    "# 1. 读取并展示所有CSV文件的列名\n",
    "file_paths = [\"2015年国内主要城市年度数据.csv\", \n",
    "              \"2016年国内主要城市年度数据.csv\", \n",
    "              \"2017年国内主要城市年度数据.csv\"]\n",
    "\n",
    "# 存储每个文件的列名\n",
    "all_columns = {}\n",
    "for file in file_paths:\n",
    "    # 只读取第一行获取列名\n",
    "    df = pd.read_csv(file, nrows=0)\n",
    "    all_columns[file] = list(df.columns)\n",
    "\n",
    "# 展示所有列名供用户参考\n",
    "print(\"发现的CSV文件及其列名:\")\n",
    "for file, columns in all_columns.items():\n",
    "    print(f\"\\n文件: {file}\")\n",
    "    print(f\"列名: {', '.join(columns)}\")\n"
   ]
  },
  {
   "cell_type": "code",
   "execution_count": 21,
   "id": "ca76e5d3-2581-454a-b646-d3fd7d22f899",
   "metadata": {},
   "outputs": [
    {
     "name": "stdout",
     "output_type": "stream",
     "text": [
      "每年的国内生产总值:\n",
      "     年份     国内生产总值\n",
      "0  2015  277958.37\n",
      "1  2016  300696.10\n",
      "2  2017  332562.43\n"
     ]
    }
   ],
   "source": [
    "\n",
    "dfs = []\n",
    "for file in file_paths:\n",
    "    df = pd.read_csv(file)\n",
    "    # 从文件名提取年份，这里注意原数据已有“年份”列，可校验或直接使用\n",
    "    # 若文件名年份和数据中“年份”列一致，可直接用数据里的，若需覆盖用下面方式\n",
    "    year = file.split(\"年\")[0]\n",
    "    df[\"年份\"] = int(year)  \n",
    "    dfs.append(df)\n",
    "\n",
    "# 纵向合并数据\n",
    "merged_df = pd.concat(dfs, ignore_index=True)\n",
    "\n",
    "# 2. 处理缺省值，填充为0\n",
    "merged_df.fillna(0, inplace=True)\n",
    "\n",
    "# 3. 按照年份聚合，求每年的国内生产总值（对应列名“国内生产总值”）\n",
    "annual_gdp = merged_df.groupby(\"年份\")[\"国内生产总值\"].sum().reset_index()\n",
    "print(\"每年的国内生产总值:\")\n",
    "print(annual_gdp)"
   ]
  },
  {
   "cell_type": "code",
   "execution_count": 23,
   "id": "ed86aec4-9a43-4f96-a8c3-e86a66ae32cd",
   "metadata": {},
   "outputs": [
    {
     "name": "stdout",
     "output_type": "stream",
     "text": [
      "\n",
      "GDP年均增长率最高的五个城市:\n",
      "    地区   年均增长率(%)\n",
      "28  西安  13.474172\n",
      "16  成都  13.398259\n",
      "24  深圳  13.355030\n",
      "8   合肥  12.889341\n",
      "17  拉萨  12.788795\n",
      "\n",
      "GDP年均增长率最低的五个城市:\n",
      "      地区   年均增长率(%)\n",
      "21    沈阳 -10.195788\n",
      "9   呼和浩特  -5.777610\n",
      "11    大连  -2.406989\n",
      "1   乌鲁木齐   2.109128\n",
      "10   哈尔滨   5.118674\n"
     ]
    }
   ],
   "source": [
    "\n",
    "# 4. 计算每个城市2015 - 2017年GDP的年均增长率\n",
    "# 透视表，行是“地区”（即城市），列是“年份”，值是“国内生产总值”\n",
    "pivot_df = merged_df.pivot(index=\"地区\", columns=\"年份\", values=\"国内生产总值\")\n",
    "\n",
    "# 计算年均增长率：[(终值/初值)^(1/年数) - 1] * 100% ，这里年数是2（2015-2017间隔2年）\n",
    "growth_rates = ((pivot_df[2017] / pivot_df[2015]) ** (1 / 2) - 1) * 100\n",
    "growth_rates = growth_rates.reset_index(name=\"年均增长率(%)\")\n",
    "\n",
    "# 找出增长率最高和最低的五个城市\n",
    "top_five = growth_rates.sort_values(\"年均增长率(%)\", ascending=False).head(5)\n",
    "bottom_five = growth_rates.sort_values(\"年均增长率(%)\").head(5)\n",
    "\n",
    "print(\"\\nGDP年均增长率最高的五个城市:\")\n",
    "print(top_five)\n",
    "print(\"\\nGDP年均增长率最低的五个城市:\")\n",
    "print(bottom_five)"
   ]
  },
  {
   "cell_type": "code",
   "execution_count": 25,
   "id": "c24c0a3e-3691-47ac-900e-b66631cc4d1b",
   "metadata": {},
   "outputs": [
    {
     "name": "stdout",
     "output_type": "stream",
     "text": [
      "\n",
      "归一化后的医院、卫生院数(按年份比较):\n",
      "       年份    地区  医院、卫生院数  医院、卫生院数_normalized\n",
      "9    2015    上海      644            0.388079\n",
      "35   2015  乌鲁木齐      175            0.077483\n",
      "32   2015    兰州      164            0.070199\n",
      "0    2015    北京      701            0.425828\n",
      "10   2015    南京      213            0.102649\n",
      "..    ...   ...      ...                 ...\n",
      "98   2017    重庆      749            0.838372\n",
      "106  2017    银川       70            0.048837\n",
      "79   2017    长春      162            0.155814\n",
      "93   2017    长沙      188            0.186047\n",
      "90   2017    青岛      410            0.444186\n",
      "\n",
      "[108 rows x 4 columns]\n"
     ]
    },
    {
     "name": "stderr",
     "output_type": "stream",
     "text": [
      "C:\\Users\\86152\\AppData\\Local\\Temp\\ipykernel_16900\\3747699297.py:7: DeprecationWarning: DataFrameGroupBy.apply operated on the grouping columns. This behavior is deprecated, and in a future version of pandas the grouping columns will be excluded from the operation. Either pass `include_groups=False` to exclude the groupings or explicitly select the grouping columns after groupby to silence this warning.\n",
      "  merged_df[\"医院、卫生院数_normalized\"] = merged_df.groupby(\"年份\").apply(\n"
     ]
    }
   ],
   "source": [
    "# 5. 对医院、卫生院数进行归一化处理（Min - Max标准化），对应列名“医院、卫生院数”\n",
    "def min_max_normalize(df, column):\n",
    "    \"\"\"对指定列进行Min - Max标准化\"\"\"\n",
    "    return (df[column] - df[column].min()) / (df[column].max() - df[column].min())\n",
    "\n",
    "# 按年份分组进行归一化\n",
    "merged_df[\"医院、卫生院数_normalized\"] = merged_df.groupby(\"年份\").apply(\n",
    "    lambda x: min_max_normalize(x, \"医院、卫生院数\")).reset_index(0, drop=True)\n",
    "\n",
    "# 按年份比较各城市医疗资源（医院、卫生院数）的变化\n",
    "print(\"\\n归一化后的医院、卫生院数(按年份比较):\")\n",
    "normalized_hospitals = merged_df[[\"年份\", \"地区\", \"医院、卫生院数\", \"医院、卫生院数_normalized\"]]\n",
    "print(normalized_hospitals.sort_values([\"年份\", \"地区\"]))"
   ]
  },
  {
   "cell_type": "code",
   "execution_count": 27,
   "id": "04425476-ac12-42e7-8440-9e6788994045",
   "metadata": {},
   "outputs": [
    {
     "name": "stdout",
     "output_type": "stream",
     "text": [
      "\n",
      "已将北京、上海、广州、深圳的数据保存到 北上广深经济数据.csv\n"
     ]
    }
   ],
   "source": [
    "# 6. 提取北京、上海、广州、深圳四个城市2015 - 2017的GDP（国内生产总值）和社会商品零售总额数据\n",
    "selected_cities = [\"北京\", \"上海\", \"广州\", \"深圳\"]\n",
    "selected_data = merged_df[\n",
    "    merged_df[\"地区\"].isin(selected_cities)\n",
    "][[\"年份\", \"地区\", \"国内生产总值\", \"社会商品零售总额\"]]\n",
    "\n",
    "# 重命名列，让结果更直观（可选，也可保持原列名）\n",
    "selected_data.columns = [\"年份\", \"城市\", \"GDP\", \"社会商品零售总额\"]\n",
    "\n",
    "# 保存到新的CSV文件\n",
    "output_file = \"北上广深经济数据.csv\"\n",
    "selected_data.to_csv(output_file, index=False, encoding=\"utf-8-sig\")\n",
    "print(f\"\\n已将北京、上海、广州、深圳的数据保存到 {output_file}\")"
   ]
  },
  {
   "cell_type": "code",
   "execution_count": null,
   "id": "b9a492c3-9d17-4d4d-9bac-62e946a559d2",
   "metadata": {},
   "outputs": [],
   "source": []
  }
 ],
 "metadata": {
  "kernelspec": {
   "display_name": "Python 3 (ipykernel)",
   "language": "python",
   "name": "python3"
  },
  "language_info": {
   "codemirror_mode": {
    "name": "ipython",
    "version": 3
   },
   "file_extension": ".py",
   "mimetype": "text/x-python",
   "name": "python",
   "nbconvert_exporter": "python",
   "pygments_lexer": "ipython3",
   "version": "3.12.4"
  }
 },
 "nbformat": 4,
 "nbformat_minor": 5
}
