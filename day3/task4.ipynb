{
 "cells": [
  {
   "cell_type": "code",
   "execution_count": 13,
   "id": "ee0232fa-1f15-42f1-b6dc-d7d1e07ab87d",
   "metadata": {},
   "outputs": [
    {
     "name": "stdout",
     "output_type": "stream",
     "text": [
      "平均消耗啤酒最多的大陆是：EU\n",
      "每个大陆红酒消耗的描述性统计值：\n",
      "           count        mean        std  min   25%    50%     75%    max\n",
      "continent                                                               \n",
      "AF          53.0   16.264151  38.846419  0.0   1.0    2.0   13.00  233.0\n",
      "AS          44.0    9.068182  21.667034  0.0   0.0    1.0    8.00  123.0\n",
      "EU          45.0  142.222222  97.421738  0.0  59.0  128.0  195.00  370.0\n",
      "OC          16.0   35.625000  64.555790  0.0   1.0    8.5   23.25  212.0\n",
      "SA          12.0   62.416667  88.620189  1.0   3.0   12.0   98.50  221.0\n",
      "每个大陆每种酒类别的消耗平均值：\n",
      "           beer_servings  spirit_servings  wine_servings\n",
      "continent                                               \n",
      "AF             61.471698        16.339623      16.264151\n",
      "AS             37.045455        60.840909       9.068182\n",
      "EU            193.777778       132.555556     142.222222\n",
      "OC             89.687500        58.437500      35.625000\n",
      "SA            175.083333       114.750000      62.416667\n",
      "每个大陆每种酒类别的消耗中位数：\n",
      "           beer_servings  spirit_servings  wine_servings\n",
      "continent                                               \n",
      "AF                  32.0              3.0            2.0\n",
      "AS                  17.5             16.0            1.0\n",
      "EU                 219.0            122.0          128.0\n",
      "OC                  52.5             37.0            8.5\n",
      "SA                 162.5            108.5           12.0\n"
     ]
    }
   ],
   "source": [
    "import pandas as pd\n",
    "\n",
    "# 更新文件路径，指向 excise_data 文件夹下的 drinks.csv\n",
    "df = pd.read_csv('exercise_data/drinks.csv')\n",
    "\n",
    "# 1. 哪个大陆(continent)平均消耗的啤酒(beer)更多？\n",
    "beer_mean_by_continent = df.groupby('continent')['beer_servings'].mean()\n",
    "continent_with_most_beer = beer_mean_by_continent.idxmax()\n",
    "print(f\"平均消耗啤酒最多的大陆是：{continent_with_most_beer}\")\n",
    "\n",
    "# 2. 打印出每个大陆(continent)的红酒消耗(wine_servings)的描述性统计值\n",
    "wine_describe_by_continent = df.groupby('continent')['wine_servings'].describe()\n",
    "print(\"每个大陆红酒消耗的描述性统计值：\")\n",
    "print(wine_describe_by_continent)\n",
    "\n",
    "# 3. 打印出每个大陆每种酒类别的消耗平均值\n",
    "mean_by_continent_and_drink = df.groupby('continent')[['beer_servings', 'spirit_servings', 'wine_servings']].mean()\n",
    "print(\"每个大陆每种酒类别的消耗平均值：\")\n",
    "print(mean_by_continent_and_drink)\n",
    "\n",
    "# 4. 打印出每个大陆每种酒类别的消耗中位数\n",
    "median_by_continent_and_drink = df.groupby('continent')[['beer_servings', 'spirit_servings', 'wine_servings']].median()\n",
    "print(\"每个大陆每种酒类别的消耗中位数：\")\n",
    "print(median_by_continent_and_drink)"
   ]
  },
  {
   "cell_type": "code",
   "execution_count": null,
   "id": "239cfdb1-ad62-44f1-a15d-690bc3a3ba12",
   "metadata": {},
   "outputs": [],
   "source": []
  }
 ],
 "metadata": {
  "kernelspec": {
   "display_name": "Python 3 (ipykernel)",
   "language": "python",
   "name": "python3"
  },
  "language_info": {
   "codemirror_mode": {
    "name": "ipython",
    "version": 3
   },
   "file_extension": ".py",
   "mimetype": "text/x-python",
   "name": "python",
   "nbconvert_exporter": "python",
   "pygments_lexer": "ipython3",
   "version": "3.12.4"
  }
 },
 "nbformat": 4,
 "nbformat_minor": 5
}
