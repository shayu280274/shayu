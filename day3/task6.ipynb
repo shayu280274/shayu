{
 "cells": [
  {
   "cell_type": "code",
   "execution_count": 9,
   "id": "2498bf1d-a55d-45e3-9966-70d615ff5eea",
   "metadata": {},
   "outputs": [
    {
     "name": "stdout",
     "output_type": "stream",
     "text": [
      "已创建 students.csv 文件\n"
     ]
    }
   ],
   "source": [
    "import pandas as pd\n",
    "import numpy as np\n",
    "\n",
    "# 1. 创建包含缺失值的CSV文件\n",
    "data = {\n",
    "    'Student_ID': [1, 2, 3, 4, 5],\n",
    "    'Name': ['Alice', None, 'Charlie', 'David', 'Eve'],\n",
    "    'Score': [85, 90, np.nan, 78, 92],\n",
    "    'Grade': ['B', 'A', 'C', 'B', 'A']\n",
    "}\n",
    "\n",
    "df = pd.DataFrame(data)\n",
    "df.to_csv('students.csv', index=False)  # 保存时不包含索引列\n",
    "print(\"已创建 students.csv 文件\")\n",
    "\n"
   ]
  },
  {
   "cell_type": "code",
   "execution_count": 11,
   "id": "e8b82bf5-467e-4c2b-be23-15b7b892a543",
   "metadata": {},
   "outputs": [
    {
     "name": "stdout",
     "output_type": "stream",
     "text": [
      "\n",
      "原始数据前3行:\n",
      " Student_ID    Name  Score Grade\n",
      "          1   Alice   85.0     B\n",
      "          2     NaN   90.0     A\n",
      "          3 Charlie    NaN     C\n"
     ]
    }
   ],
   "source": [
    "# 2. 读取CSV文件并打印前3行\n",
    "df_read = pd.read_csv('students.csv')\n",
    "print(\"\\n原始数据前3行:\")\n",
    "print(df_read.head(3).to_string(index=False))  # 打印时不显示索引\n",
    "\n"
   ]
  },
  {
   "cell_type": "code",
   "execution_count": 19,
   "id": "204f7e43-3cca-436e-9c2c-3711e7cf1fe8",
   "metadata": {},
   "outputs": [],
   "source": [
    "# 3. 填充缺失值\n",
    "mean_score = df_read['Score'].mean()  # 计算平均分\n",
    "df_read['Score'] = df_read['Score'].fillna(mean_score)  # 直接赋值替代 inplace\n",
    "df_read['Name'] = df_read['Name'].fillna('Unknown')     # 直接赋值替代 inplace"
   ]
  },
  {
   "cell_type": "code",
   "execution_count": 21,
   "id": "2542a846-443c-4c30-a389-1228eacf85f2",
   "metadata": {},
   "outputs": [
    {
     "name": "stdout",
     "output_type": "stream",
     "text": [
      "\n",
      "已保存处理后的数据到 students_cleaned.csv\n",
      "\n",
      "处理后的数据前3行:\n",
      " Student_ID    Name  Score Grade\n",
      "          1   Alice  85.00     B\n",
      "          2 Unknown  90.00     A\n",
      "          3 Charlie  86.25     C\n"
     ]
    }
   ],
   "source": [
    "# 4. 保存处理后的DataFrame\n",
    "df_read.to_csv('students_cleaned.csv', index=False)  # 保存时不包含索引列\n",
    "print(\"\\n已保存处理后的数据到 students_cleaned.csv\")\n",
    "print(\"\\n处理后的数据前3行:\")\n",
    "print(df_read.head(3).to_string(index=False))  # 打印时不显示索引"
   ]
  },
  {
   "cell_type": "code",
   "execution_count": null,
   "id": "8f6939cf-6a07-4956-b532-cecad7be3a04",
   "metadata": {},
   "outputs": [],
   "source": []
  },
  {
   "cell_type": "code",
   "execution_count": null,
   "id": "aea293d1-016e-4a63-a261-e52ed656c7d5",
   "metadata": {},
   "outputs": [],
   "source": []
  },
  {
   "cell_type": "code",
   "execution_count": null,
   "id": "e023a05b-ec5e-4f03-a43f-44a06372bb18",
   "metadata": {},
   "outputs": [],
   "source": []
  }
 ],
 "metadata": {
  "kernelspec": {
   "display_name": "Python 3 (ipykernel)",
   "language": "python",
   "name": "python3"
  },
  "language_info": {
   "codemirror_mode": {
    "name": "ipython",
    "version": 3
   },
   "file_extension": ".py",
   "mimetype": "text/x-python",
   "name": "python",
   "nbconvert_exporter": "python",
   "pygments_lexer": "ipython3",
   "version": "3.12.4"
  }
 },
 "nbformat": 4,
 "nbformat_minor": 5
}
