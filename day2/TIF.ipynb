{
 "cells": [
  {
   "cell_type": "code",
   "execution_count": null,
   "id": "b1f1bdde-6ca3-4052-8312-5b22dec90a46",
   "metadata": {},
   "outputs": [
    {
     "name": "stdout",
     "output_type": "stream",
     "text": [
      "处理完成! 结果已保存至: processed_rgb.tif\n"
     ]
    }
   ],
   "source": [
    "import rasterio\n",
    "import numpy as np\n",
    "import matplotlib.pyplot as plt\n",
    "from matplotlib.font_manager import FontProperties\n",
    "import matplotlib as mpl\n",
    "\n",
    "def process_sentinel2_image(input_path, output_path):\n",
    "    \"\"\"\n",
    "    处理 Sentinel-2 图像:\n",
    "    1. 读取5波段TIFF图像\n",
    "    2. 将数据范围从0-10000压缩到0-255\n",
    "    3. 转换为RGB三通道图像\n",
    "    4. 保存处理结果\n",
    "    \"\"\"\n",
    "    # 1. 设置中文字体支持\n",
    "    plt.rcParams['font.sans-serif'] = ['SimHei', 'Microsoft YaHei', 'KaiTi', 'Arial Unicode MS']\n",
    "    plt.rcParams['axes.unicode_minus'] = False\n",
    "    \n",
    "    # 2. 读取原始TIFF图像\n",
    "    with rasterio.open(input_path) as src:\n",
    "        # 读取所有5个波段\n",
    "        bands = src.read()\n",
    "        profile = src.profile\n",
    "        \n",
    "        # 3. 数据压缩 (0-10000 → 0-255)\n",
    "        # 添加裁剪确保在0-255范围内\n",
    "        compressed = np.clip(bands / 10000.0 * 255, 0, 255).astype(np.uint8)\n",
    "        \n",
    "        # 4. 选择RGB波段 (通常为B2, B3, B4)\n",
    "        rgb_indices = [2, 1, 0]  # 红、绿、蓝波段索引\n",
    "        rgb_image = compressed[rgb_indices, :, :]\n",
    "        \n",
    "        # 5. 更新元数据为RGB三通道\n",
    "        profile.update(\n",
    "            count=3,\n",
    "            dtype=np.uint8\n",
    "        )\n",
    "        \n",
    "        # 6. 保存处理后的图像\n",
    "        with rasterio.open(output_path, 'w', **profile) as dst:\n",
    "            dst.write(rgb_image)\n",
    "    \n",
    "    print(f\"处理完成! 结果已保存至: {output_path}\")\n",
    "    \n",
    "    # 7. 显示处理前后的对比 (修复显示问题)\n",
    "    fig, (ax1, ax2) = plt.subplots(1, 2, figsize=(15, 10))\n",
    "    \n",
    "    # 原始图像显示\n",
    "    with rasterio.open(input_path) as src:\n",
    "        # 创建真彩色合成\n",
    "        rgb_bands = [src.read(i) for i in [3, 2, 1]]  # 红、绿、蓝波段\n",
    "        \n",
    "        # 缩放并裁剪到0-255\n",
    "        rgb_display = np.stack([\n",
    "            np.clip(band / 10000.0 * 255, 0, 255).astype(np.uint8)\n",
    "            for band in rgb_bands\n",
    "        ])\n",
    "        \n",
    "        # 转置为(height, width, bands)\n",
    "        rgb_display = np.moveaxis(rgb_display, 0, -1)\n",
    "        \n",
    "        # 显示图像\n",
    "        ax1.imshow(rgb_display)\n",
    "        ax1.set_title('原始图像')\n",
    "    \n",
    "    # 处理后的图像显示\n",
    "    with rasterio.open(output_path) as dst:\n",
    "        # 读取并转置为(height, width, bands)\n",
    "        processed_rgb = dst.read()\n",
    "        processed_rgb = np.moveaxis(processed_rgb, 0, -1)\n",
    "        \n",
    "        ax2.imshow(processed_rgb)\n",
    "        ax2.set_title('处理后RGB')\n",
    "    \n",
    "    # 8. 保存和显示\n",
    "    plt.tight_layout()\n",
    "    plt.savefig('comparison.png', dpi=300, bbox_inches='tight')\n",
    "    plt.show()\n",
    "\n",
    "# 使用示例\n",
    "if __name__ == \"__main__\":\n",
    "    input_tif = \"2020_0427_fire_B2348_B12_10m_roi.tif\"  # 输入文件路径\n",
    "    output_tif = \"processed_rgb.tif\"   # 输出文件路径\n",
    "    \n",
    "    process_sentinel2_image(input_tif, output_tif)"
   ]
  },
  {
   "cell_type": "code",
   "execution_count": null,
   "id": "959bc252-5dca-4e1c-84cc-5837ebdd56fb",
   "metadata": {},
   "outputs": [],
   "source": [
    "\n"
   ]
  },
  {
   "cell_type": "code",
   "execution_count": null,
   "id": "f4e0f225-84ad-45a9-b512-c318c8f4b78f",
   "metadata": {},
   "outputs": [],
   "source": []
  }
 ],
 "metadata": {
  "kernelspec": {
   "display_name": "Python 3 (ipykernel)",
   "language": "python",
   "name": "python3"
  },
  "language_info": {
   "codemirror_mode": {
    "name": "ipython",
    "version": 3
   },
   "file_extension": ".py",
   "mimetype": "text/x-python",
   "name": "python",
   "nbconvert_exporter": "python",
   "pygments_lexer": "ipython3",
   "version": "3.12.4"
  }
 },
 "nbformat": 4,
 "nbformat_minor": 5
}
