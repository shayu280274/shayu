{
 "cells": [
  {
   "cell_type": "code",
   "execution_count": 5,
   "id": "216001e4-a1ff-43b2-85be-37336d7a6dca",
   "metadata": {},
   "outputs": [
    {
     "name": "stdout",
     "output_type": "stream",
     "text": [
      "原始数组:\n",
      "[[ 1  2  3  4]\n",
      " [ 5  6  7  8]\n",
      " [ 9 10 11 12]]\n",
      "\n",
      "任务 1: 数组属性\n",
      "形状: (3, 4)\n",
      "维度: 2\n",
      "数据类型: int32\n",
      "\n",
      "任务 2: 乘以 2 后的数组\n",
      "[[ 2  4  6  8]\n",
      " [10 12 14 16]\n",
      " [18 20 22 24]]\n",
      "\n",
      "任务 3: 重塑为 4x3 的数组\n",
      "[[ 1  2  3]\n",
      " [ 4  5  6]\n",
      " [ 7  8  9]\n",
      " [10 11 12]]\n"
     ]
    }
   ],
   "source": [
    "import numpy as np\n",
    "\n",
    "# 创建 3x4 的二维数组，元素为 1 到 12 的整数\n",
    "arr = np.arange(1, 13).reshape(3, 4)\n",
    "\n",
    "print(\"原始数组:\")\n",
    "print(arr)\n",
    "\n",
    "# 任务 1: 打印数组的形状、维度和数据类型\n",
    "print(\"\\n任务 1: 数组属性\")\n",
    "print(\"形状:\", arr.shape)  # (3, 4)\n",
    "print(\"维度:\", arr.ndim)   # 2 (二维数组)\n",
    "print(\"数据类型:\", arr.dtype)  # int32 或 int64 (取决于系统)\n",
    "\n",
    "# 任务 2: 将数组元素乘以 2，打印结果\n",
    "arr_multiplied = arr * 2\n",
    "print(\"\\n任务 2: 乘以 2 后的数组\")\n",
    "print(arr_multiplied)\n",
    "\n",
    "# 任务 3: 将数组重塑为 4x3 的形状，打印新数组\n",
    "arr_reshaped = arr.reshape(4, 3)\n",
    "print(\"\\n任务 3: 重塑为 4x3 的数组\")\n",
    "print(arr_reshaped)"
   ]
  },
  {
   "cell_type": "code",
   "execution_count": 7,
   "id": "f5bb813c-cceb-4d1a-8854-8e51fc4bbfb7",
   "metadata": {},
   "outputs": [
    {
     "name": "stdout",
     "output_type": "stream",
     "text": [
      "原始数组:\n",
      "[[ 1  2  3  4]\n",
      " [ 5  6  7  8]\n",
      " [ 9 10 11 12]\n",
      " [13 14 15 16]]\n",
      "\n",
      "任务 1: 第 2 行所有元素\n",
      "[5 6 7 8]\n",
      "\n",
      "任务 2: 第 3 列所有元素\n",
      "[ 3  7 11 15]\n",
      "\n",
      "任务 3: 子数组（第1-2行，第2-3列）\n",
      "[[2 3]\n",
      " [6 7]]\n",
      "\n",
      "任务 4: 修改后的数组（大于10的元素替换为0）\n",
      "[[ 1  2  3  4]\n",
      " [ 5  6  7  8]\n",
      " [ 9 10  0  0]\n",
      " [ 0  0  0  0]]\n"
     ]
    }
   ],
   "source": [
    "import numpy as np\n",
    "\n",
    "# 创建 4x4 的二维数组\n",
    "array = np.array([[1, 2, 3, 4],\n",
    "                  [5, 6, 7, 8],\n",
    "                  [9, 10, 11, 12],\n",
    "                  [13, 14, 15, 16]])\n",
    "\n",
    "print(\"原始数组:\")\n",
    "print(array)\n",
    "\n",
    "# 任务 1: 提取第 2 行所有元素（索引从0开始，第2行索引为1）\n",
    "row_2 = array[1, :]\n",
    "print(\"\\n任务 1: 第 2 行所有元素\")\n",
    "print(row_2)\n",
    "\n",
    "# 任务 2: 提取第 3 列所有元素（索引为2）\n",
    "col_3 = array[:, 2]\n",
    "print(\"\\n任务 2: 第 3 列所有元素\")\n",
    "print(col_3)\n",
    "\n",
    "# 任务 3: 提取子数组（包含第1、2行和第2、3列）\n",
    "sub_array = array[0:2, 1:3]\n",
    "print(\"\\n任务 3: 子数组（第1-2行，第2-3列）\")\n",
    "print(sub_array)\n",
    "\n",
    "# 任务 4: 将大于 10 的元素替换为 0\n",
    "modified_array = array.copy()  # 创建副本以避免修改原始数组\n",
    "modified_array[modified_array > 10] = 0\n",
    "print(\"\\n任务 4: 修改后的数组（大于10的元素替换为0）\")\n",
    "print(modified_array)"
   ]
  },
  {
   "cell_type": "code",
   "execution_count": 9,
   "id": "283c603c-0181-4f1a-bb95-6f68bb7cff09",
   "metadata": {},
   "outputs": [
    {
     "name": "stdout",
     "output_type": "stream",
     "text": [
      "数组 A:\n",
      "[[1 2]\n",
      " [3 4]\n",
      " [5 6]]\n",
      "\n",
      "数组 B:\n",
      "[10 20]\n",
      "\n",
      "任务 1: A + B\n",
      "[[11 22]\n",
      " [13 24]\n",
      " [15 26]]\n",
      "\n",
      "任务 2: A * B\n",
      "[[ 10  40]\n",
      " [ 30  80]\n",
      " [ 50 120]]\n",
      "\n",
      "任务 3: A 的每一行与 B 的点积\n",
      "[ 50 110 170]\n"
     ]
    }
   ],
   "source": [
    "import numpy as np\n",
    "\n",
    "# 创建数组 A：3x2 的二维数组，元素为 1 到 6\n",
    "A = np.array([[1, 2],\n",
    "              [3, 4],\n",
    "              [5, 6]])\n",
    "\n",
    "# 创建数组 B：一维数组 [10, 20]\n",
    "B = np.array([10, 20])\n",
    "\n",
    "print(\"数组 A:\")\n",
    "print(A)\n",
    "print(\"\\n数组 B:\")\n",
    "print(B)\n",
    "\n",
    "# 任务 1: 计算 A 和 B 的逐元素相加（利用广播）\n",
    "add_result = A + B\n",
    "print(\"\\n任务 1: A + B\")\n",
    "print(add_result)\n",
    "\n",
    "# 任务 2: 计算 A 和 B 的逐元素相乘（利用广播）\n",
    "multiply_result = A * B\n",
    "print(\"\\n任务 2: A * B\")\n",
    "print(multiply_result)\n",
    "\n",
    "# 任务 3: 计算 A 的每一行与 B 的点积\n",
    "dot_products = np.dot(A, B)\n",
    "print(\"\\n任务 3: A 的每一行与 B 的点积\")\n",
    "print(dot_products)"
   ]
  },
  {
   "cell_type": "code",
   "execution_count": null,
   "id": "f1d22e85-2c9b-49c9-b55e-2901082b9d9c",
   "metadata": {},
   "outputs": [],
   "source": []
  }
 ],
 "metadata": {
  "kernelspec": {
   "display_name": "Python 3 (ipykernel)",
   "language": "python",
   "name": "python3"
  },
  "language_info": {
   "codemirror_mode": {
    "name": "ipython",
    "version": 3
   },
   "file_extension": ".py",
   "mimetype": "text/x-python",
   "name": "python",
   "nbconvert_exporter": "python",
   "pygments_lexer": "ipython3",
   "version": "3.12.4"
  }
 },
 "nbformat": 4,
 "nbformat_minor": 5
}
